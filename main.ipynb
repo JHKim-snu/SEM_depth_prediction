{
 "cells": [
  {
   "cell_type": "code",
   "execution_count": 1,
   "metadata": {},
   "outputs": [],
   "source": [
    "from PIL import Image\n",
    "import numpy as np\n",
    "%matplotlib inline\n",
    "import matplotlib\n",
    "import matplotlib.pyplot as plt\n",
    "import torch\n",
    "import torch.nn as nn\n",
    "import torch.optim as optim\n",
    "import torch.nn.init as init\n",
    "from torch.utils.data import Dataset, DataLoader\n",
    "import torchvision\n",
    "from torchvision import transforms\n",
    "import os"
   ]
  },
  {
   "cell_type": "code",
   "execution_count": 2,
   "metadata": {},
   "outputs": [],
   "source": [
    "batch_size = 64\n",
    "learning_rate = 0.0001\n",
    "num_epoch = 50"
   ]
  },
  {
   "cell_type": "code",
   "execution_count": 3,
   "metadata": {},
   "outputs": [],
   "source": [
    "SEM_root = \"/data/jhkim/samsung/AI_challenge_data/Train/SEM/\"\n",
    "depth_root = \"/data/jhkim/samsung/AI_challenge_data/Train/Depth/\"\n",
    "test_root = \"/data/jhkim/samsung/AI_challenge_data/Test/SEM/\"\n",
    "\n",
    "train_SEMimglist = os.listdir(\"/data/jhkim/samsung/AI_challenge_data/Train/SEM\")\n",
    "train_depthimglist = os.listdir(\"/data/jhkim/samsung/AI_challenge_data/Train/Depth\")\n",
    "test_SEMimglist = os.listdir(\"/data/jhkim/samsung/AI_challenge_data/Test/SEM\")\n",
    "\n",
    "trans = transforms.Compose([transforms.ToTensor(), transforms.Normalize((0.5,),(0.5,))])\n",
    "trans_wo_Norm = transforms.ToTensor()\n",
    "\n",
    "class img_dataset(Dataset):\n",
    "    def __init__(self, file_list, transform, SEM_path):\n",
    "        self.file_list = file_list\n",
    "        self.transform = transform\n",
    "        self.path = SEM_path\n",
    "    def __len__(self):\n",
    "        return len(self.file_list)\n",
    "    def __getitem__(self, index):\n",
    "        img_path = self.file_list[index]\n",
    "        img = Image.open(self.path + img_path)\n",
    "        img_transformed = self.transform(img)\n",
    "\n",
    "        return img_transformed, img_path\n",
    "\n",
    "train_dataset = img_dataset(file_list = train_SEMimglist, transform=trans, SEM_path=SEM_root)\n",
    "train_dataloader = DataLoader(train_dataset, batch_size=batch_size, shuffle=True)\n",
    "test_dataset = img_dataset(file_list = test_SEMimglist, transform=trans, SEM_path=test_root)\n",
    "test_dataloader = DataLoader(test_dataset, batch_size=1, shuffle=False)\n",
    "\n",
    "batch_iterator = iter(train_dataloader)\n",
    "images = next(batch_iterator)"
   ]
  },
  {
   "cell_type": "code",
   "execution_count": 4,
   "metadata": {},
   "outputs": [],
   "source": [
    "#input size: 1 x 66 x 45\n",
    "\n",
    "#Autoencoder\n",
    "class Encoder(nn.Module):\n",
    "    def __init__(self):\n",
    "        super(Encoder,self).__init__()\n",
    "        self.layer1 = nn.Sequential(\n",
    "                        nn.Conv2d(1,4,3,padding=1),                            # batch x 16 x 66 x 45\n",
    "                        nn.ReLU(),\n",
    "                        nn.BatchNorm2d(4),\n",
    "                        nn.Conv2d(4,8,3,padding=1),                           # batch x 32 x 66 x 45\n",
    "                        nn.ReLU(),\n",
    "                        nn.BatchNorm2d(8),\n",
    "                        nn.Conv2d(8,16,3,padding=1),                           # batch x 32 x 66 x 45\n",
    "                        nn.ReLU(),\n",
    "                        nn.BatchNorm2d(16),\n",
    "                        nn.MaxPool2d(2,2)                                       # batch x 64 x 33 x 22\n",
    "        )\n",
    "        self.layer2 = nn.Sequential(\n",
    "                        nn.Conv2d(16,32,3,padding=1),                          # batch x 128 x 33 x 22\n",
    "                        nn.ReLU(),\n",
    "                        nn.BatchNorm2d(32),\n",
    "                        nn.MaxPool2d(2,2),\n",
    "                        nn.Conv2d(32,64,3,padding=1),                         # batch x 256 x 16 x 11\n",
    "                        nn.ReLU()\n",
    "        )\n",
    "        \n",
    "                \n",
    "    def forward(self,x):\n",
    "        out = self.layer1(x)\n",
    "        out = self.layer2(out)\n",
    "        out = out.view(batch_size, -1)\n",
    "        return out\n",
    "\n",
    "class Decoder(nn.Module):\n",
    "    def __init__(self):\n",
    "        super(Decoder,self).__init__()\n",
    "        self.layer1 = nn.Sequential(\n",
    "                        nn.ConvTranspose2d(64,32,4,2,1,(1,0)),                    # batch x 128 x 33 x 22\n",
    "                        nn.ReLU(),\n",
    "                        nn.BatchNorm2d(32),\n",
    "                        nn.ConvTranspose2d(32,16,3,1,1),                       # batch x 64 x 33 x 22\n",
    "                        nn.ReLU(),\n",
    "                        nn.BatchNorm2d(16)\n",
    "        )\n",
    "        self.layer2 = nn.Sequential(\n",
    "                        nn.ConvTranspose2d(16,4,3,1,1),                        # batch x 16 x 33 x 22\n",
    "                        nn.ReLU(),\n",
    "                        nn.BatchNorm2d(4),\n",
    "                        nn.ConvTranspose2d(4,1,4,2,1,(0,1)),                       # batch x 1 x 66 x 45\n",
    "                        nn.ReLU()\n",
    "        )\n",
    "        \n",
    "    def forward(self,x):\n",
    "        out = x.view(batch_size,64,16,11)\n",
    "        out = self.layer1(out)\n",
    "        out = self.layer2(out)\n",
    "        return out\n"
   ]
  },
  {
   "cell_type": "code",
   "execution_count": 5,
   "metadata": {},
   "outputs": [
    {
     "name": "stdout",
     "output_type": "stream",
     "text": [
      "cuda:0\n"
     ]
    }
   ],
   "source": [
    "#Loss function & Optimizer\n",
    "\n",
    "device = torch.device(\"cuda:0\" if torch.cuda.is_available() else \"cpu\")\n",
    "print(device)\n",
    "\n",
    "encoder = Encoder().to(device)\n",
    "decoder = Decoder().to(device)\n",
    "\n",
    "#To make end-to-end training!! concat parameters\n",
    "parameters = list(encoder.parameters())+ list(decoder.parameters())\n",
    "\n",
    "loss_func = nn.MSELoss()\n",
    "optimizer = torch.optim.Adam(parameters, lr=learning_rate)"
   ]
  },
  {
   "cell_type": "code",
   "execution_count": 6,
   "metadata": {},
   "outputs": [
    {
     "name": "stdout",
     "output_type": "stream",
     "text": [
      "epoch: 0    Loss: 0.02825696626752615\n",
      "epoch: 1    Loss: 0.0057926330007612705\n",
      "epoch: 2    Loss: 0.004322587491199374\n",
      "epoch: 3    Loss: 0.0033134591270238163\n",
      "epoch: 4    Loss: 0.0025954935234040024\n",
      "epoch: 5    Loss: 0.0020718562122434376\n",
      "epoch: 6    Loss: 0.001557851834781468\n",
      "epoch: 7    Loss: 0.0013182973697781562\n",
      "epoch: 8    Loss: 0.0012064168782904745\n",
      "epoch: 9    Loss: 0.0010340661894530057\n",
      "epoch: 10    Loss: 0.0008454171625897288\n",
      "epoch: 11    Loss: 0.0007734709505923092\n",
      "epoch: 12    Loss: 0.0007284317012876272\n",
      "epoch: 13    Loss: 0.0006913693349808454\n",
      "epoch: 14    Loss: 0.0006492676634341478\n",
      "epoch: 15    Loss: 0.0005645904331468046\n",
      "epoch: 16    Loss: 0.0003356123345438391\n",
      "epoch: 17    Loss: 0.0002940500009804964\n",
      "epoch: 18    Loss: 0.0002777069920906797\n",
      "epoch: 19    Loss: 0.00026661266344599427\n",
      "epoch: 20    Loss: 0.00025742563439998777\n",
      "epoch: 21    Loss: 0.0002495467814384028\n",
      "epoch: 22    Loss: 0.0002428665763232857\n",
      "epoch: 23    Loss: 0.0002376344823744148\n",
      "epoch: 24    Loss: 0.00023174399761483074\n",
      "epoch: 25    Loss: 0.0002263184938346967\n",
      "epoch: 26    Loss: 0.00022253126786090434\n",
      "epoch: 27    Loss: 0.00021833344958722593\n",
      "epoch: 28    Loss: 0.00021495947944931686\n",
      "epoch: 29    Loss: 0.00021165520825888962\n",
      "epoch: 30    Loss: 0.00020888169223908334\n",
      "epoch: 31    Loss: 0.00020614028703421354\n",
      "epoch: 32    Loss: 0.00020388808592688293\n",
      "epoch: 33    Loss: 0.00020161667752545328\n",
      "epoch: 34    Loss: 0.0001999747173395008\n",
      "epoch: 35    Loss: 0.00019864717230666428\n",
      "epoch: 36    Loss: 0.00019631039411760866\n",
      "epoch: 37    Loss: 0.0001946857276139781\n",
      "epoch: 38    Loss: 0.00019332103072665631\n",
      "epoch: 39    Loss: 0.00019172441742848606\n",
      "epoch: 40    Loss: 0.00019041610790882258\n",
      "epoch: 41    Loss: 0.00018876032636035235\n",
      "epoch: 42    Loss: 0.00018761772287543863\n",
      "epoch: 43    Loss: 0.00018646293163765223\n",
      "epoch: 44    Loss: 0.00018576553722377865\n",
      "epoch: 45    Loss: 0.00018407700716052203\n",
      "epoch: 46    Loss: 0.00018262128534261138\n",
      "epoch: 47    Loss: 0.00018158169900998474\n",
      "epoch: 48    Loss: 0.0001809723756974563\n",
      "epoch: 49    Loss: 0.00018010388913098724\n",
      "tensor(0.0002, device='cuda:0', grad_fn=<MseLossBackward0>)\n"
     ]
    }
   ],
   "source": [
    "# Train\n",
    "'''\n",
    "try:\n",
    "    encoder, decoder = torch.load('./model/conv_autoencoder.pkl')\n",
    "    print(\"\\n--------model restored--------\\n\")\n",
    "except:\n",
    "    print(\"\\n--------model not restored--------\\n\")\n",
    "    pass\n",
    "'''\n",
    "\n",
    "for i in range(num_epoch):\n",
    "    tot_loss = 0\n",
    "    cnt = 0\n",
    "    for j, (image, img_path) in enumerate(train_dataloader):\n",
    "        optimizer.zero_grad()\n",
    "        image = image.to(device)\n",
    "        \n",
    "        output = encoder(image)\n",
    "        output = decoder(output)\n",
    "        \n",
    "        target_img_list = []\n",
    "        for k in range(len(img_path)):\n",
    "            target_img_path = img_path[k][:-9]+'.png'\n",
    "            target_img = Image.open(depth_root + target_img_path)\n",
    "            target_img = trans_wo_Norm(target_img)\n",
    "            target_img = target_img.to(device)\n",
    "            target_img_list.append(target_img)\n",
    "        target = torch.stack(target_img_list, dim=0)\n",
    "\n",
    "        loss = loss_func(output,target)\n",
    "        loss.backward()\n",
    "        optimizer.step()\n",
    "        tot_loss += loss.item()\n",
    "        cnt += 1\n",
    "    print(\"epoch: {}    Loss: {}\".format(i, tot_loss/cnt))\n",
    "    #if j % 10 == 0:\n",
    "torch.save([encoder,decoder],'./model/conv_autoencoder.pkl')\n",
    "print(loss)"
   ]
  },
  {
   "cell_type": "code",
   "execution_count": 7,
   "metadata": {},
   "outputs": [
    {
     "name": "stdout",
     "output_type": "stream",
     "text": [
      "torch.Size([64, 66, 45])\n"
     ]
    },
    {
     "data": {
      "image/png": "[encoded data removed]",
      "text/plain": [
       "<Figure size 432x288 with 2 Axes>"
      ]
     },
     "metadata": {
      "needs_background": "light"
     },
     "output_type": "display_data"
    },
    {
     "data": {
      "image/png": "[encoded data removed]",
      "text/plain": [
       "<Figure size 432x288 with 2 Axes>"
      ]
     },
     "metadata": {
      "needs_background": "light"
     },
     "output_type": "display_data"
    }
   ],
   "source": [
    "#Check\n",
    "\n",
    "out_img = torch.squeeze(output.cpu().data)\n",
    "print(out_img.size())\n",
    "\n",
    "for i in range(2):\n",
    "    plt.subplot(1,2,1)\n",
    "    plt.imshow(torch.squeeze(target[i]).cpu().numpy(),cmap='gray')\n",
    "    plt.subplot(1,2,2)\n",
    "    plt.imshow(out_img[i].numpy(),cmap='gray')\n",
    "    plt.show()"
   ]
  },
  {
   "cell_type": "code",
   "execution_count": 8,
   "metadata": {},
   "outputs": [
    {
     "name": "stdout",
     "output_type": "stream",
     "text": [
      "5000 image saved in /data/jhkim/samsung/output/\n"
     ]
    }
   ],
   "source": [
    "#test\n",
    "batch_size = 1\n",
    "output_path = \"/data/jhkim/samsung/output/\"\n",
    "cnt = 0\n",
    "\n",
    "with torch.no_grad():\n",
    "    for j,(image,img_path) in enumerate(test_dataloader):\n",
    "       \n",
    "        image = image.to(device)\n",
    "        output = encoder(image)\n",
    "        output = decoder(output)\n",
    "        torchvision.utils.save_image(output, output_path+img_path[0])\n",
    "        cnt += 1\n",
    "print(\"{} image saved in {}\".format(cnt, output_path))"
   ]
  },
  {
   "cell_type": "code",
   "execution_count": 9,
   "metadata": {},
   "outputs": [
    {
     "name": "stdout",
     "output_type": "stream",
     "text": [
      "torch.Size([66, 45])\n"
     ]
    },
    {
     "data": {
      "image/png": "[encoded data removed]",
      "text/plain": [
       "<Figure size 432x288 with 2 Axes>"
      ]
     },
     "metadata": {
      "needs_background": "light"
     },
     "output_type": "display_data"
    }
   ],
   "source": [
    "out_img = torch.squeeze(output.cpu().data)\n",
    "print(out_img.size())\n",
    "\n",
    "plt.subplot(1,2,1)\n",
    "plt.imshow(torch.squeeze(image).cpu().numpy(),cmap='gray')\n",
    "plt.subplot(1,2,2)\n",
    "plt.imshow(out_img.numpy(),cmap='gray')\n",
    "plt.show()"
   ]
  },
  {
   "cell_type": "code",
   "execution_count": null,
   "metadata": {},
   "outputs": [],
   "source": []
  }
 ],
 "metadata": {
  "interpreter": {
   "hash": "736dd4be9d62fce89da7a0fa856c9f01adf0f942f5b53ab77207359bf610f38c"
  },
  "kernelspec": {
   "display_name": "Python 3.8.10 ('deep-learning-21')",
   "language": "python",
   "name": "python3"
  },
  "language_info": {
   "codemirror_mode": {
    "name": "ipython",
    "version": 3
   },
   "file_extension": ".py",
   "mimetype": "text/x-python",
   "name": "python",
   "nbconvert_exporter": "python",
   "pygments_lexer": "ipython3",
   "version": "3.8.10"
  },
  "orig_nbformat": 4
 },
 "nbformat": 4,
 "nbformat_minor": 2
}
